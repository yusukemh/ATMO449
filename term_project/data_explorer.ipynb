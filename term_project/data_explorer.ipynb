{
 "cells": [
  {
   "cell_type": "code",
   "execution_count": 1,
   "id": "a14a5b56",
   "metadata": {},
   "outputs": [],
   "source": [
    "import pandas as pd\n",
    "base_dir = f'/mnt/lustre/koa/class/atmo449_class/students/team_1_flood_risk/'\n",
    "import matplotlib.pyplot as plt\n",
    "import numpy as np\n",
    "from tqdm import tqdm\n",
    "from wrf_diffusion.nimbuspp.parallel import parallelize"
   ]
  },
  {
   "cell_type": "code",
   "execution_count": 2,
   "id": "42398394",
   "metadata": {},
   "outputs": [],
   "source": [
    "df_metadata = pd.read_csv(f'{base_dir}/raw_data/station_metadata.csv')"
   ]
  },
  {
   "cell_type": "code",
   "execution_count": 4,
   "id": "daa85e78",
   "metadata": {},
   "outputs": [
    {
     "data": {
      "text/plain": [
       "0    16104200\n",
       "1    16103000\n",
       "2    16097500\n",
       "3    16094150\n",
       "4    16114800\n",
       "5    16108000\n",
       "6    16010000\n",
       "7    16016000\n",
       "8    16019000\n",
       "9    16060950\n",
       "Name: station_id, dtype: int64"
      ]
     },
     "execution_count": 4,
     "metadata": {},
     "output_type": "execute_result"
    }
   ],
   "source": [
    "df_metadata['station_id'].head(10)"
   ]
  },
  {
   "cell_type": "code",
   "execution_count": null,
   "id": "44ba873b",
   "metadata": {},
   "outputs": [],
   "source": [
    "station_id = df_metadata.iloc[1]['station_id']\n",
    "station_id = 16016000\n",
    "\n",
    "def resample_filter(station_id):\n",
    "    df_gauge = pd.read_csv(\n",
    "        f\"{base_dir}/raw_data/gauge_observations/{station_id}.csv\", dtype={'measurement': str}\n",
    "        ).query('DQF == \"A\"').drop(columns=['DQF', 'station_id'])\n",
    "    df_gauge['hst_timestamp'] = pd.to_datetime(df_gauge['hst_timestamp'])\n",
    "    df_gauge['measurement'] = df_gauge['measurement'].astype(float)\n",
    "\n",
    "    # drop any measurements taken at timestamps not divisible by 5 mins.\n",
    "    df_gauge['is_divisible_by_5mins'] = (df_gauge['hst_timestamp'] - df_gauge['hst_timestamp'].dt.floor(freq='5min')) == pd.Timedelta(seconds=0)\n",
    "    if ~df_gauge['is_divisible_by_5mins'].sum() > 10:\n",
    "        raise ValueError()\n",
    "    df_gauge_5min_resolution = df_gauge[df_gauge['is_divisible_by_5mins']].drop(columns=['is_divisible_by_5mins'])\n",
    "\n",
    "    df_gauge_5min_resolution['interval'] = df_gauge_5min_resolution['hst_timestamp'] - df_gauge_5min_resolution['hst_timestamp'].shift(1)\n",
    "    assert df_gauge_5min_resolution['interval'].min() >= pd.Timedelta(minutes=5)\n",
    "    df_resampled = df_gauge_5min_resolution.resample('15min', on='hst_timestamp').mean().dropna().drop(columns=['interval'])\n",
    "    \n",
    "    # Calculate the data coverage and save only if enough coverage\n",
    "    start, end = pd.Timestamp('2008-01-01', tz=\"HST\"), pd.Timestamp('2024-12-31', tz=\"HST\")\n",
    "    df_resampled_filtered = df_resampled[(df_resampled.index >= start) & (df_resampled.index <= end)]\n",
    "\n",
    "    recovery_rate = df_resampled_filtered.shape[0] / pd.date_range(start, end, freq='15min').shape[0]\n",
    "    if recovery_rate > 0.85:\n",
    "        print(f\"Saving data for {station_id}\")\n",
    "        df_resampled_filtered.to_csv(f\"{base_dir}/preprocessed_data/selected_flowgauge_15mins/{station_id}.csv\")\n",
    "    else:\n",
    "        print(f\"Coverage is low: {recovery_rate:.3f}. Skipping {station_id}\")"
   ]
  },
  {
   "cell_type": "code",
   "execution_count": 6,
   "id": "fcd6d032",
   "metadata": {},
   "outputs": [
    {
     "ename": "AssertionError",
     "evalue": "",
     "output_type": "error",
     "traceback": [
      "\u001b[31m---------------------------------------------------------------------------\u001b[39m",
      "\u001b[31mAssertionError\u001b[39m                            Traceback (most recent call last)",
      "\u001b[36mCell\u001b[39m\u001b[36m \u001b[39m\u001b[32mIn[6]\u001b[39m\u001b[32m, line 1\u001b[39m\n\u001b[32m----> \u001b[39m\u001b[32m1\u001b[39m \u001b[43mresample_filter\u001b[49m\u001b[43m(\u001b[49m\u001b[43mstation_id\u001b[49m\u001b[43m)\u001b[49m\n",
      "\u001b[36mCell\u001b[39m\u001b[36m \u001b[39m\u001b[32mIn[5]\u001b[39m\u001b[32m, line 19\u001b[39m, in \u001b[36mresample_filter\u001b[39m\u001b[34m(station_id)\u001b[39m\n\u001b[32m     16\u001b[39m df_gauge_5min_resolution = df_gauge[df_gauge[\u001b[33m'\u001b[39m\u001b[33mis_divisible_by_5mins\u001b[39m\u001b[33m'\u001b[39m]].drop(columns=[\u001b[33m'\u001b[39m\u001b[33mis_divisible_by_5mins\u001b[39m\u001b[33m'\u001b[39m])\n\u001b[32m     18\u001b[39m df_gauge_5min_resolution[\u001b[33m'\u001b[39m\u001b[33minterval\u001b[39m\u001b[33m'\u001b[39m] = df_gauge_5min_resolution[\u001b[33m'\u001b[39m\u001b[33mhst_timestamp\u001b[39m\u001b[33m'\u001b[39m] - df_gauge_5min_resolution[\u001b[33m'\u001b[39m\u001b[33mhst_timestamp\u001b[39m\u001b[33m'\u001b[39m].shift(\u001b[32m1\u001b[39m)\n\u001b[32m---> \u001b[39m\u001b[32m19\u001b[39m \u001b[38;5;28;01massert\u001b[39;00m df_gauge_5min_resolution[\u001b[33m'\u001b[39m\u001b[33minterval\u001b[39m\u001b[33m'\u001b[39m].min() >= pd.Timedelta(minutes=\u001b[32m5\u001b[39m)\n\u001b[32m     20\u001b[39m df_resampled = df_gauge_5min_resolution.resample(\u001b[33m'\u001b[39m\u001b[33m15min\u001b[39m\u001b[33m'\u001b[39m, on=\u001b[33m'\u001b[39m\u001b[33mhst_timestamp\u001b[39m\u001b[33m'\u001b[39m).mean().dropna().drop(columns=[\u001b[33m'\u001b[39m\u001b[33minterval\u001b[39m\u001b[33m'\u001b[39m])\n\u001b[32m     22\u001b[39m \u001b[38;5;66;03m# Calculate the data coverage and save only if enough coverage\u001b[39;00m\n",
      "\u001b[31mAssertionError\u001b[39m: "
     ]
    }
   ],
   "source": [
    "resample_filter(station_id)"
   ]
  },
  {
   "cell_type": "code",
   "execution_count": 9,
   "id": "862c9d08",
   "metadata": {},
   "outputs": [],
   "source": [
    "df_gauge = pd.read_csv(\n",
    "    f\"{base_dir}/raw_data/gauge_observations/{station_id}.csv\", dtype={'measurement': str}\n",
    "    ).query('DQF == \"A\"').drop(columns=['DQF', 'station_id'])\n",
    "df_gauge['hst_timestamp'] = pd.to_datetime(df_gauge['hst_timestamp'])\n",
    "df_gauge['measurement'] = df_gauge['measurement'].astype(float)\n",
    "\n",
    "# # drop any measurements taken at timestamps not divisible by 5 mins.\n",
    "# df_gauge['is_divisible_by_5mins'] = (df_gauge['hst_timestamp'] - df_gauge['hst_timestamp'].dt.floor(freq='5min')) == pd.Timedelta(seconds=0)\n",
    "# if ~df_gauge['is_divisible_by_5mins'].sum() > 10:\n",
    "#     raise ValueError()\n",
    "# df_gauge_5min_resolution = df_gauge[df_gauge['is_divisible_by_5mins']].drop(columns=['is_divisible_by_5mins'])\n",
    "\n",
    "# df_gauge_5min_resolution['interval'] = df_gauge_5min_resolution['hst_timestamp'] - df_gauge_5min_resolution['hst_timestamp'].shift(1)"
   ]
  },
  {
   "cell_type": "code",
   "execution_count": 10,
   "id": "c0ce24ec",
   "metadata": {},
   "outputs": [
    {
     "data": {
      "text/html": [
       "<div>\n",
       "<style scoped>\n",
       "    .dataframe tbody tr th:only-of-type {\n",
       "        vertical-align: middle;\n",
       "    }\n",
       "\n",
       "    .dataframe tbody tr th {\n",
       "        vertical-align: top;\n",
       "    }\n",
       "\n",
       "    .dataframe thead th {\n",
       "        text-align: right;\n",
       "    }\n",
       "</style>\n",
       "<table border=\"1\" class=\"dataframe\">\n",
       "  <thead>\n",
       "    <tr style=\"text-align: right;\">\n",
       "      <th></th>\n",
       "      <th>hst_timestamp</th>\n",
       "      <th>measurement</th>\n",
       "    </tr>\n",
       "  </thead>\n",
       "  <tbody>\n",
       "  </tbody>\n",
       "</table>\n",
       "</div>"
      ],
      "text/plain": [
       "Empty DataFrame\n",
       "Columns: [hst_timestamp, measurement]\n",
       "Index: []"
      ]
     },
     "execution_count": 10,
     "metadata": {},
     "output_type": "execute_result"
    }
   ],
   "source": [
    "df_gauge"
   ]
  },
  {
   "cell_type": "code",
   "execution_count": 10,
   "id": "5e4c17a4",
   "metadata": {},
   "outputs": [
    {
     "data": {
      "text/plain": [
       "[<matplotlib.lines.Line2D at 0x14bbeb86c610>]"
      ]
     },
     "execution_count": 10,
     "metadata": {},
     "output_type": "execute_result"
    },
    {
     "data": {
      "image/png": "[encoded data removed]",
      "text/plain": [
       "<Figure size 640x480 with 1 Axes>"
      ]
     },
     "metadata": {},
     "output_type": "display_data"
    }
   ],
   "source": [
    "plt.plot(df_resampled_filtered['measurement'])"
   ]
  },
  {
   "cell_type": "code",
   "execution_count": null,
   "id": "22274b11",
   "metadata": {},
   "outputs": [],
   "source": []
  },
  {
   "cell_type": "code",
   "execution_count": 227,
   "id": "bc4ebf27",
   "metadata": {},
   "outputs": [
    {
     "data": {
      "text/plain": [
       "16103000"
      ]
     },
     "execution_count": 227,
     "metadata": {},
     "output_type": "execute_result"
    }
   ],
   "source": [
    "station_id"
   ]
  },
  {
   "cell_type": "code",
   "execution_count": 230,
   "id": "26155df0",
   "metadata": {},
   "outputs": [
    {
     "data": {
      "text/plain": [
       "0.6981182795698925"
      ]
     },
     "execution_count": 230,
     "metadata": {},
     "output_type": "execute_result"
    }
   ],
   "source": [
    "116865 / (24*(2022-2007)*465)"
   ]
  },
  {
   "cell_type": "code",
   "execution_count": null,
   "id": "1e29086f",
   "metadata": {},
   "outputs": [],
   "source": []
  },
  {
   "cell_type": "code",
   "execution_count": null,
   "id": "7ad5573c",
   "metadata": {},
   "outputs": [],
   "source": []
  },
  {
   "cell_type": "code",
   "execution_count": null,
   "metadata": {},
   "outputs": [],
   "source": []
  },
  {
   "cell_type": "code",
   "execution_count": 171,
   "id": "ca64428b",
   "metadata": {},
   "outputs": [
    {
     "data": {
      "text/html": [
       "<div>\n",
       "<style scoped>\n",
       "    .dataframe tbody tr th:only-of-type {\n",
       "        vertical-align: middle;\n",
       "    }\n",
       "\n",
       "    .dataframe tbody tr th {\n",
       "        vertical-align: top;\n",
       "    }\n",
       "\n",
       "    .dataframe thead th {\n",
       "        text-align: right;\n",
       "    }\n",
       "</style>\n",
       "<table border=\"1\" class=\"dataframe\">\n",
       "  <thead>\n",
       "    <tr style=\"text-align: right;\">\n",
       "      <th></th>\n",
       "      <th>measurement</th>\n",
       "      <th>interval</th>\n",
       "    </tr>\n",
       "    <tr>\n",
       "      <th>hst_timestamp</th>\n",
       "      <th></th>\n",
       "      <th></th>\n",
       "    </tr>\n",
       "  </thead>\n",
       "  <tbody>\n",
       "    <tr>\n",
       "      <th>2022-08-10 10:30:00-10:00</th>\n",
       "      <td>-0.420000</td>\n",
       "      <td>0 days 00:05:00</td>\n",
       "    </tr>\n",
       "    <tr>\n",
       "      <th>2022-08-10 10:45:00-10:00</th>\n",
       "      <td>-0.420000</td>\n",
       "      <td>0 days 00:05:00</td>\n",
       "    </tr>\n",
       "    <tr>\n",
       "      <th>2022-08-10 11:00:00-10:00</th>\n",
       "      <td>-0.416667</td>\n",
       "      <td>0 days 00:05:00</td>\n",
       "    </tr>\n",
       "    <tr>\n",
       "      <th>2022-08-10 11:15:00-10:00</th>\n",
       "      <td>-0.420000</td>\n",
       "      <td>0 days 00:05:00</td>\n",
       "    </tr>\n",
       "    <tr>\n",
       "      <th>2022-08-10 11:30:00-10:00</th>\n",
       "      <td>-0.430000</td>\n",
       "      <td>0 days 00:05:00</td>\n",
       "    </tr>\n",
       "  </tbody>\n",
       "</table>\n",
       "</div>"
      ],
      "text/plain": [
       "                           measurement        interval\n",
       "hst_timestamp                                         \n",
       "2022-08-10 10:30:00-10:00    -0.420000 0 days 00:05:00\n",
       "2022-08-10 10:45:00-10:00    -0.420000 0 days 00:05:00\n",
       "2022-08-10 11:00:00-10:00    -0.416667 0 days 00:05:00\n",
       "2022-08-10 11:15:00-10:00    -0.420000 0 days 00:05:00\n",
       "2022-08-10 11:30:00-10:00    -0.430000 0 days 00:05:00"
      ]
     },
     "execution_count": 171,
     "metadata": {},
     "output_type": "execute_result"
    }
   ],
   "source": [
    "def accept(g):\n",
    "    if g.count() >= 2:\n",
    "        return g.mean()\n",
    "    else:\n",
    "        return np.nan\n",
    "    \n",
    "df_gauge_5min_resolution.resample('15min').mean().tail()"
   ]
  },
  {
   "cell_type": "code",
   "execution_count": 172,
   "id": "cc0d3e56",
   "metadata": {},
   "outputs": [
    {
     "data": {
      "text/html": [
       "<div>\n",
       "<style scoped>\n",
       "    .dataframe tbody tr th:only-of-type {\n",
       "        vertical-align: middle;\n",
       "    }\n",
       "\n",
       "    .dataframe tbody tr th {\n",
       "        vertical-align: top;\n",
       "    }\n",
       "\n",
       "    .dataframe thead th {\n",
       "        text-align: right;\n",
       "    }\n",
       "</style>\n",
       "<table border=\"1\" class=\"dataframe\">\n",
       "  <thead>\n",
       "    <tr style=\"text-align: right;\">\n",
       "      <th></th>\n",
       "      <th>measurement</th>\n",
       "      <th>interval</th>\n",
       "    </tr>\n",
       "    <tr>\n",
       "      <th>hst_timestamp</th>\n",
       "      <th></th>\n",
       "      <th></th>\n",
       "    </tr>\n",
       "  </thead>\n",
       "  <tbody>\n",
       "    <tr>\n",
       "      <th>2022-08-10 10:30:00-10:00</th>\n",
       "      <td>-0.42</td>\n",
       "      <td>0 days 00:05:00</td>\n",
       "    </tr>\n",
       "    <tr>\n",
       "      <th>2022-08-10 10:45:00-10:00</th>\n",
       "      <td>-0.42</td>\n",
       "      <td>0 days 00:05:00</td>\n",
       "    </tr>\n",
       "    <tr>\n",
       "      <th>2022-08-10 11:00:00-10:00</th>\n",
       "      <td>-0.41</td>\n",
       "      <td>0 days 00:05:00</td>\n",
       "    </tr>\n",
       "    <tr>\n",
       "      <th>2022-08-10 11:15:00-10:00</th>\n",
       "      <td>-0.41</td>\n",
       "      <td>0 days 00:05:00</td>\n",
       "    </tr>\n",
       "    <tr>\n",
       "      <th>2022-08-10 11:30:00-10:00</th>\n",
       "      <td>-0.43</td>\n",
       "      <td>0 days 00:05:00</td>\n",
       "    </tr>\n",
       "  </tbody>\n",
       "</table>\n",
       "</div>"
      ],
      "text/plain": [
       "                           measurement        interval\n",
       "hst_timestamp                                         \n",
       "2022-08-10 10:30:00-10:00        -0.42 0 days 00:05:00\n",
       "2022-08-10 10:45:00-10:00        -0.42 0 days 00:05:00\n",
       "2022-08-10 11:00:00-10:00        -0.41 0 days 00:05:00\n",
       "2022-08-10 11:15:00-10:00        -0.41 0 days 00:05:00\n",
       "2022-08-10 11:30:00-10:00        -0.43 0 days 00:05:00"
      ]
     },
     "execution_count": 172,
     "metadata": {},
     "output_type": "execute_result"
    }
   ],
   "source": [
    "df_gauge_5min_resolution.resample('15min').asfreq().tail()"
   ]
  },
  {
   "cell_type": "code",
   "execution_count": 173,
   "id": "c502e33a",
   "metadata": {},
   "outputs": [
    {
     "data": {
      "text/html": [
       "<div>\n",
       "<style scoped>\n",
       "    .dataframe tbody tr th:only-of-type {\n",
       "        vertical-align: middle;\n",
       "    }\n",
       "\n",
       "    .dataframe tbody tr th {\n",
       "        vertical-align: top;\n",
       "    }\n",
       "\n",
       "    .dataframe thead th {\n",
       "        text-align: right;\n",
       "    }\n",
       "</style>\n",
       "<table border=\"1\" class=\"dataframe\">\n",
       "  <thead>\n",
       "    <tr style=\"text-align: right;\">\n",
       "      <th></th>\n",
       "      <th>measurement</th>\n",
       "      <th>interval</th>\n",
       "    </tr>\n",
       "    <tr>\n",
       "      <th>hst_timestamp</th>\n",
       "      <th></th>\n",
       "      <th></th>\n",
       "    </tr>\n",
       "  </thead>\n",
       "  <tbody>\n",
       "    <tr>\n",
       "      <th>2022-08-10 11:10:00-10:00</th>\n",
       "      <td>-0.42</td>\n",
       "      <td>0 days 00:05:00</td>\n",
       "    </tr>\n",
       "    <tr>\n",
       "      <th>2022-08-10 11:15:00-10:00</th>\n",
       "      <td>-0.41</td>\n",
       "      <td>0 days 00:05:00</td>\n",
       "    </tr>\n",
       "    <tr>\n",
       "      <th>2022-08-10 11:20:00-10:00</th>\n",
       "      <td>-0.42</td>\n",
       "      <td>0 days 00:05:00</td>\n",
       "    </tr>\n",
       "    <tr>\n",
       "      <th>2022-08-10 11:25:00-10:00</th>\n",
       "      <td>-0.43</td>\n",
       "      <td>0 days 00:05:00</td>\n",
       "    </tr>\n",
       "    <tr>\n",
       "      <th>2022-08-10 11:30:00-10:00</th>\n",
       "      <td>-0.43</td>\n",
       "      <td>0 days 00:05:00</td>\n",
       "    </tr>\n",
       "  </tbody>\n",
       "</table>\n",
       "</div>"
      ],
      "text/plain": [
       "                           measurement        interval\n",
       "hst_timestamp                                         \n",
       "2022-08-10 11:10:00-10:00        -0.42 0 days 00:05:00\n",
       "2022-08-10 11:15:00-10:00        -0.41 0 days 00:05:00\n",
       "2022-08-10 11:20:00-10:00        -0.42 0 days 00:05:00\n",
       "2022-08-10 11:25:00-10:00        -0.43 0 days 00:05:00\n",
       "2022-08-10 11:30:00-10:00        -0.43 0 days 00:05:00"
      ]
     },
     "execution_count": 173,
     "metadata": {},
     "output_type": "execute_result"
    }
   ],
   "source": [
    "df_gauge_5min_resolution.tail()"
   ]
  },
  {
   "cell_type": "code",
   "execution_count": 144,
   "id": "53a37d55",
   "metadata": {},
   "outputs": [],
   "source": [
    "# freq = pd.infer_freq(df_gauge_5min_resolution.index)"
   ]
  },
  {
   "cell_type": "code",
   "execution_count": 140,
   "id": "08a6ba10",
   "metadata": {},
   "outputs": [
    {
     "data": {
      "text/html": [
       "<div>\n",
       "<style scoped>\n",
       "    .dataframe tbody tr th:only-of-type {\n",
       "        vertical-align: middle;\n",
       "    }\n",
       "\n",
       "    .dataframe tbody tr th {\n",
       "        vertical-align: top;\n",
       "    }\n",
       "\n",
       "    .dataframe thead th {\n",
       "        text-align: right;\n",
       "    }\n",
       "</style>\n",
       "<table border=\"1\" class=\"dataframe\">\n",
       "  <thead>\n",
       "    <tr style=\"text-align: right;\">\n",
       "      <th></th>\n",
       "      <th>measurement</th>\n",
       "      <th>interval</th>\n",
       "    </tr>\n",
       "    <tr>\n",
       "      <th>hst_timestamp</th>\n",
       "      <th></th>\n",
       "      <th></th>\n",
       "    </tr>\n",
       "  </thead>\n",
       "  <tbody>\n",
       "    <tr>\n",
       "      <th>2007-10-01 00:00:00-10:00</th>\n",
       "      <td>2.83</td>\n",
       "      <td>NaT</td>\n",
       "    </tr>\n",
       "    <tr>\n",
       "      <th>2007-10-01 00:15:00-10:00</th>\n",
       "      <td>2.82</td>\n",
       "      <td>0 days 00:15:00</td>\n",
       "    </tr>\n",
       "    <tr>\n",
       "      <th>2007-10-01 00:30:00-10:00</th>\n",
       "      <td>2.81</td>\n",
       "      <td>0 days 00:15:00</td>\n",
       "    </tr>\n",
       "    <tr>\n",
       "      <th>2007-10-01 00:45:00-10:00</th>\n",
       "      <td>2.79</td>\n",
       "      <td>0 days 00:15:00</td>\n",
       "    </tr>\n",
       "    <tr>\n",
       "      <th>2007-10-01 01:00:00-10:00</th>\n",
       "      <td>2.77</td>\n",
       "      <td>0 days 00:15:00</td>\n",
       "    </tr>\n",
       "    <tr>\n",
       "      <th>...</th>\n",
       "      <td>...</td>\n",
       "      <td>...</td>\n",
       "    </tr>\n",
       "    <tr>\n",
       "      <th>2022-08-10 11:10:00-10:00</th>\n",
       "      <td>-0.42</td>\n",
       "      <td>0 days 00:05:00</td>\n",
       "    </tr>\n",
       "    <tr>\n",
       "      <th>2022-08-10 11:15:00-10:00</th>\n",
       "      <td>-0.41</td>\n",
       "      <td>0 days 00:05:00</td>\n",
       "    </tr>\n",
       "    <tr>\n",
       "      <th>2022-08-10 11:20:00-10:00</th>\n",
       "      <td>-0.42</td>\n",
       "      <td>0 days 00:05:00</td>\n",
       "    </tr>\n",
       "    <tr>\n",
       "      <th>2022-08-10 11:25:00-10:00</th>\n",
       "      <td>-0.43</td>\n",
       "      <td>0 days 00:05:00</td>\n",
       "    </tr>\n",
       "    <tr>\n",
       "      <th>2022-08-10 11:30:00-10:00</th>\n",
       "      <td>-0.43</td>\n",
       "      <td>0 days 00:05:00</td>\n",
       "    </tr>\n",
       "  </tbody>\n",
       "</table>\n",
       "<p>796925 rows × 2 columns</p>\n",
       "</div>"
      ],
      "text/plain": [
       "                          measurement        interval\n",
       "hst_timestamp                                        \n",
       "2007-10-01 00:00:00-10:00        2.83             NaT\n",
       "2007-10-01 00:15:00-10:00        2.82 0 days 00:15:00\n",
       "2007-10-01 00:30:00-10:00        2.81 0 days 00:15:00\n",
       "2007-10-01 00:45:00-10:00        2.79 0 days 00:15:00\n",
       "2007-10-01 01:00:00-10:00        2.77 0 days 00:15:00\n",
       "...                               ...             ...\n",
       "2022-08-10 11:10:00-10:00       -0.42 0 days 00:05:00\n",
       "2022-08-10 11:15:00-10:00       -0.41 0 days 00:05:00\n",
       "2022-08-10 11:20:00-10:00       -0.42 0 days 00:05:00\n",
       "2022-08-10 11:25:00-10:00       -0.43 0 days 00:05:00\n",
       "2022-08-10 11:30:00-10:00       -0.43 0 days 00:05:00\n",
       "\n",
       "[796925 rows x 2 columns]"
      ]
     },
     "execution_count": 140,
     "metadata": {},
     "output_type": "execute_result"
    }
   ],
   "source": [
    "df_gauge_5min_resolution#.resample('5min').asfreq()"
   ]
  },
  {
   "cell_type": "code",
   "execution_count": 134,
   "id": "ed7dc2d5",
   "metadata": {},
   "outputs": [
    {
     "data": {
      "text/plain": [
       "hst_timestamp\n",
       "2007-10-01 00:00:00-10:00    1\n",
       "2007-10-01 00:15:00-10:00    1\n",
       "2007-10-01 00:30:00-10:00    1\n",
       "2007-10-01 00:45:00-10:00    1\n",
       "2007-10-01 01:00:00-10:00    1\n",
       "                            ..\n",
       "2022-08-10 10:30:00-10:00    3\n",
       "2022-08-10 10:45:00-10:00    3\n",
       "2022-08-10 11:00:00-10:00    3\n",
       "2022-08-10 11:15:00-10:00    3\n",
       "2022-08-10 11:30:00-10:00    1\n",
       "Length: 467022, dtype: int64"
      ]
     },
     "execution_count": 134,
     "metadata": {},
     "output_type": "execute_result"
    }
   ],
   "source": [
    "df_gauge_5min_resolution.groupby(df_gauge_5min_resolution['hst_timestamp'].dt.floor('15min')).apply(lambda g: len(g))"
   ]
  },
  {
   "cell_type": "code",
   "execution_count": null,
   "id": "11123bf7",
   "metadata": {},
   "outputs": [],
   "source": [
    "# # drop any measurements taken at timestamps not divisible by 5 mins.\n",
    "# df_gauge['is_divisible_by_5mins'] = (df_gauge.index - df_gauge.index.dt.floor(freq='5min')) > pd.Timedelta(seconds=1)\n",
    "# if df_gauge['is_divisible_by_5mins'].sum() > 10:\n",
    "#     raise ValueError()\n",
    "# df_gauge = df_gauge[~df_gauge['is_divisible_by_5mins']].copy()\n",
    "\n",
    "# df_gauge['interval'] = df_gauge['hst_timestamp'] - df_gauge['hst_timestamp'].shift(1)"
   ]
  },
  {
   "cell_type": "code",
   "execution_count": 80,
   "id": "33acf85e",
   "metadata": {},
   "outputs": [
    {
     "data": {
      "text/plain": [
       "Timedelta('0 days 00:05:00')"
      ]
     },
     "execution_count": 80,
     "metadata": {},
     "output_type": "execute_result"
    }
   ],
   "source": [
    "df_gauge['interval'].unique().min()"
   ]
  },
  {
   "cell_type": "code",
   "execution_count": 81,
   "id": "5291f305",
   "metadata": {},
   "outputs": [
    {
     "data": {
      "text/html": [
       "<div>\n",
       "<style scoped>\n",
       "    .dataframe tbody tr th:only-of-type {\n",
       "        vertical-align: middle;\n",
       "    }\n",
       "\n",
       "    .dataframe tbody tr th {\n",
       "        vertical-align: top;\n",
       "    }\n",
       "\n",
       "    .dataframe thead th {\n",
       "        text-align: right;\n",
       "    }\n",
       "</style>\n",
       "<table border=\"1\" class=\"dataframe\">\n",
       "  <thead>\n",
       "    <tr style=\"text-align: right;\">\n",
       "      <th></th>\n",
       "      <th>hst_timestamp</th>\n",
       "      <th>measurement</th>\n",
       "      <th>is_divisible_by_5mins</th>\n",
       "      <th>interval</th>\n",
       "    </tr>\n",
       "  </thead>\n",
       "  <tbody>\n",
       "    <tr>\n",
       "      <th>0</th>\n",
       "      <td>2007-10-01 00:00:00-10:00</td>\n",
       "      <td>2.83</td>\n",
       "      <td>False</td>\n",
       "      <td>NaT</td>\n",
       "    </tr>\n",
       "    <tr>\n",
       "      <th>1</th>\n",
       "      <td>2007-10-01 00:15:00-10:00</td>\n",
       "      <td>2.82</td>\n",
       "      <td>False</td>\n",
       "      <td>0 days 00:15:00</td>\n",
       "    </tr>\n",
       "    <tr>\n",
       "      <th>2</th>\n",
       "      <td>2007-10-01 00:30:00-10:00</td>\n",
       "      <td>2.81</td>\n",
       "      <td>False</td>\n",
       "      <td>0 days 00:15:00</td>\n",
       "    </tr>\n",
       "    <tr>\n",
       "      <th>3</th>\n",
       "      <td>2007-10-01 00:45:00-10:00</td>\n",
       "      <td>2.79</td>\n",
       "      <td>False</td>\n",
       "      <td>0 days 00:15:00</td>\n",
       "    </tr>\n",
       "    <tr>\n",
       "      <th>4</th>\n",
       "      <td>2007-10-01 01:00:00-10:00</td>\n",
       "      <td>2.77</td>\n",
       "      <td>False</td>\n",
       "      <td>0 days 00:15:00</td>\n",
       "    </tr>\n",
       "    <tr>\n",
       "      <th>...</th>\n",
       "      <td>...</td>\n",
       "      <td>...</td>\n",
       "      <td>...</td>\n",
       "      <td>...</td>\n",
       "    </tr>\n",
       "    <tr>\n",
       "      <th>798057</th>\n",
       "      <td>2022-08-10 11:10:00-10:00</td>\n",
       "      <td>-0.42</td>\n",
       "      <td>False</td>\n",
       "      <td>0 days 00:05:00</td>\n",
       "    </tr>\n",
       "    <tr>\n",
       "      <th>798058</th>\n",
       "      <td>2022-08-10 11:15:00-10:00</td>\n",
       "      <td>-0.41</td>\n",
       "      <td>False</td>\n",
       "      <td>0 days 00:05:00</td>\n",
       "    </tr>\n",
       "    <tr>\n",
       "      <th>798059</th>\n",
       "      <td>2022-08-10 11:20:00-10:00</td>\n",
       "      <td>-0.42</td>\n",
       "      <td>False</td>\n",
       "      <td>0 days 00:05:00</td>\n",
       "    </tr>\n",
       "    <tr>\n",
       "      <th>798060</th>\n",
       "      <td>2022-08-10 11:25:00-10:00</td>\n",
       "      <td>-0.43</td>\n",
       "      <td>False</td>\n",
       "      <td>0 days 00:05:00</td>\n",
       "    </tr>\n",
       "    <tr>\n",
       "      <th>798061</th>\n",
       "      <td>2022-08-10 11:30:00-10:00</td>\n",
       "      <td>-0.43</td>\n",
       "      <td>False</td>\n",
       "      <td>0 days 00:05:00</td>\n",
       "    </tr>\n",
       "  </tbody>\n",
       "</table>\n",
       "<p>796925 rows × 4 columns</p>\n",
       "</div>"
      ],
      "text/plain": [
       "                   hst_timestamp measurement  is_divisible_by_5mins  \\\n",
       "0      2007-10-01 00:00:00-10:00        2.83                  False   \n",
       "1      2007-10-01 00:15:00-10:00        2.82                  False   \n",
       "2      2007-10-01 00:30:00-10:00        2.81                  False   \n",
       "3      2007-10-01 00:45:00-10:00        2.79                  False   \n",
       "4      2007-10-01 01:00:00-10:00        2.77                  False   \n",
       "...                          ...         ...                    ...   \n",
       "798057 2022-08-10 11:10:00-10:00       -0.42                  False   \n",
       "798058 2022-08-10 11:15:00-10:00       -0.41                  False   \n",
       "798059 2022-08-10 11:20:00-10:00       -0.42                  False   \n",
       "798060 2022-08-10 11:25:00-10:00       -0.43                  False   \n",
       "798061 2022-08-10 11:30:00-10:00       -0.43                  False   \n",
       "\n",
       "              interval  \n",
       "0                  NaT  \n",
       "1      0 days 00:15:00  \n",
       "2      0 days 00:15:00  \n",
       "3      0 days 00:15:00  \n",
       "4      0 days 00:15:00  \n",
       "...                ...  \n",
       "798057 0 days 00:05:00  \n",
       "798058 0 days 00:05:00  \n",
       "798059 0 days 00:05:00  \n",
       "798060 0 days 00:05:00  \n",
       "798061 0 days 00:05:00  \n",
       "\n",
       "[796925 rows x 4 columns]"
      ]
     },
     "execution_count": 81,
     "metadata": {},
     "output_type": "execute_result"
    }
   ],
   "source": [
    "df_gauge"
   ]
  },
  {
   "cell_type": "code",
   "execution_count": 29,
   "id": "f49ee24f",
   "metadata": {},
   "outputs": [
    {
     "data": {
      "text/html": [
       "<div>\n",
       "<style scoped>\n",
       "    .dataframe tbody tr th:only-of-type {\n",
       "        vertical-align: middle;\n",
       "    }\n",
       "\n",
       "    .dataframe tbody tr th {\n",
       "        vertical-align: top;\n",
       "    }\n",
       "\n",
       "    .dataframe thead th {\n",
       "        text-align: right;\n",
       "    }\n",
       "</style>\n",
       "<table border=\"1\" class=\"dataframe\">\n",
       "  <thead>\n",
       "    <tr style=\"text-align: right;\">\n",
       "      <th></th>\n",
       "      <th>hst_timestamp</th>\n",
       "      <th>measurement</th>\n",
       "      <th>interval</th>\n",
       "    </tr>\n",
       "  </thead>\n",
       "  <tbody>\n",
       "  </tbody>\n",
       "</table>\n",
       "</div>"
      ],
      "text/plain": [
       "Empty DataFrame\n",
       "Columns: [hst_timestamp, measurement, interval]\n",
       "Index: []"
      ]
     },
     "execution_count": 29,
     "metadata": {},
     "output_type": "execute_result"
    }
   ],
   "source": [
    "df_gauge.iloc[364380:364390]"
   ]
  },
  {
   "cell_type": "code",
   "execution_count": 16,
   "id": "9967451e",
   "metadata": {},
   "outputs": [
    {
     "data": {
      "text/plain": [
       "Timedelta('0 days 00:01:00')"
      ]
     },
     "execution_count": 16,
     "metadata": {},
     "output_type": "execute_result"
    }
   ],
   "source": [
    "df_gauge['interval'].unique().min()"
   ]
  },
  {
   "cell_type": "code",
   "execution_count": 8,
   "id": "99ced787",
   "metadata": {},
   "outputs": [
    {
     "data": {
      "text/html": [
       "<div>\n",
       "<style scoped>\n",
       "    .dataframe tbody tr th:only-of-type {\n",
       "        vertical-align: middle;\n",
       "    }\n",
       "\n",
       "    .dataframe tbody tr th {\n",
       "        vertical-align: top;\n",
       "    }\n",
       "\n",
       "    .dataframe thead th {\n",
       "        text-align: right;\n",
       "    }\n",
       "</style>\n",
       "<table border=\"1\" class=\"dataframe\">\n",
       "  <thead>\n",
       "    <tr style=\"text-align: right;\">\n",
       "      <th></th>\n",
       "      <th>hst_timestamp</th>\n",
       "      <th>measurement</th>\n",
       "      <th>interval</th>\n",
       "    </tr>\n",
       "  </thead>\n",
       "  <tbody>\n",
       "    <tr>\n",
       "      <th>0</th>\n",
       "      <td>2007-10-01 00:00:00-10:00</td>\n",
       "      <td>2.83</td>\n",
       "      <td>None</td>\n",
       "    </tr>\n",
       "    <tr>\n",
       "      <th>1</th>\n",
       "      <td>2007-10-01 00:15:00-10:00</td>\n",
       "      <td>2.82</td>\n",
       "      <td>2007-10-01 00:00:00-10:00</td>\n",
       "    </tr>\n",
       "    <tr>\n",
       "      <th>2</th>\n",
       "      <td>2007-10-01 00:30:00-10:00</td>\n",
       "      <td>2.81</td>\n",
       "      <td>2007-10-01 00:15:00-10:00</td>\n",
       "    </tr>\n",
       "    <tr>\n",
       "      <th>3</th>\n",
       "      <td>2007-10-01 00:45:00-10:00</td>\n",
       "      <td>2.79</td>\n",
       "      <td>2007-10-01 00:30:00-10:00</td>\n",
       "    </tr>\n",
       "    <tr>\n",
       "      <th>4</th>\n",
       "      <td>2007-10-01 01:00:00-10:00</td>\n",
       "      <td>2.77</td>\n",
       "      <td>2007-10-01 00:45:00-10:00</td>\n",
       "    </tr>\n",
       "    <tr>\n",
       "      <th>...</th>\n",
       "      <td>...</td>\n",
       "      <td>...</td>\n",
       "      <td>...</td>\n",
       "    </tr>\n",
       "    <tr>\n",
       "      <th>798057</th>\n",
       "      <td>2022-08-10 11:10:00-10:00</td>\n",
       "      <td>-0.42</td>\n",
       "      <td>2022-08-10 11:05:00-10:00</td>\n",
       "    </tr>\n",
       "    <tr>\n",
       "      <th>798058</th>\n",
       "      <td>2022-08-10 11:15:00-10:00</td>\n",
       "      <td>-0.41</td>\n",
       "      <td>2022-08-10 11:10:00-10:00</td>\n",
       "    </tr>\n",
       "    <tr>\n",
       "      <th>798059</th>\n",
       "      <td>2022-08-10 11:20:00-10:00</td>\n",
       "      <td>-0.42</td>\n",
       "      <td>2022-08-10 11:15:00-10:00</td>\n",
       "    </tr>\n",
       "    <tr>\n",
       "      <th>798060</th>\n",
       "      <td>2022-08-10 11:25:00-10:00</td>\n",
       "      <td>-0.43</td>\n",
       "      <td>2022-08-10 11:20:00-10:00</td>\n",
       "    </tr>\n",
       "    <tr>\n",
       "      <th>798061</th>\n",
       "      <td>2022-08-10 11:30:00-10:00</td>\n",
       "      <td>-0.43</td>\n",
       "      <td>2022-08-10 11:25:00-10:00</td>\n",
       "    </tr>\n",
       "  </tbody>\n",
       "</table>\n",
       "<p>796931 rows × 3 columns</p>\n",
       "</div>"
      ],
      "text/plain": [
       "                    hst_timestamp measurement                   interval\n",
       "0       2007-10-01 00:00:00-10:00        2.83                       None\n",
       "1       2007-10-01 00:15:00-10:00        2.82  2007-10-01 00:00:00-10:00\n",
       "2       2007-10-01 00:30:00-10:00        2.81  2007-10-01 00:15:00-10:00\n",
       "3       2007-10-01 00:45:00-10:00        2.79  2007-10-01 00:30:00-10:00\n",
       "4       2007-10-01 01:00:00-10:00        2.77  2007-10-01 00:45:00-10:00\n",
       "...                           ...         ...                        ...\n",
       "798057  2022-08-10 11:10:00-10:00       -0.42  2022-08-10 11:05:00-10:00\n",
       "798058  2022-08-10 11:15:00-10:00       -0.41  2022-08-10 11:10:00-10:00\n",
       "798059  2022-08-10 11:20:00-10:00       -0.42  2022-08-10 11:15:00-10:00\n",
       "798060  2022-08-10 11:25:00-10:00       -0.43  2022-08-10 11:20:00-10:00\n",
       "798061  2022-08-10 11:30:00-10:00       -0.43  2022-08-10 11:25:00-10:00\n",
       "\n",
       "[796931 rows x 3 columns]"
      ]
     },
     "execution_count": 8,
     "metadata": {},
     "output_type": "execute_result"
    }
   ],
   "source": [
    "df_gauge"
   ]
  },
  {
   "cell_type": "code",
   "execution_count": null,
   "id": "c3e54856",
   "metadata": {},
   "outputs": [],
   "source": [
    "# def get_data_availability(args):\n",
    "#     station_id = args['station_id']\n",
    "#     data_availability = {'station_id': station_id, 'start_date': None, 'end_date': None, 'N_data': 0, 'availability_%': 0}\n",
    "#     df_gauge = pd.read_csv(f\"{base_dir}/raw_data/gauge_observations/{station_id}.csv\", dtype={'measurement': str}).query('DQF == \"A\"').drop(columns=['DQF', 'station_id'])\n",
    "#     if len(df_gauge) == 0:\n",
    "#         return data_availability\n",
    "\n",
    "#     df_gauge['hst_timestamp'] = pd.to_datetime(df_gauge['hst_timestamp'])\n",
    "#     df_gauge['measurement'] = np.array(df_gauge['measurement'])\n",
    "#     df_gauge.set_index('hst_timestamp', inplace=True)\n",
    "\n",
    "#     total_len = pd.date_range(df_gauge.index.min(), df_gauge.index.max(), freq='15min').shape[0]\n",
    "#     availability = df_gauge.shape[0] / total_len\n",
    "#     data_availability['availability_%'] = availability * 100\n",
    "#     data_availability['start_date'] = df_gauge.index.min().strftime('%Y/%m/%d')\n",
    "#     data_availability['end_date'] = df_gauge.index.max().strftime('%Y/%m/%d')\n",
    "#     data_availability['N_data'] = df_gauge.shape[0]\n",
    "#     return data_availability"
   ]
  },
  {
   "cell_type": "code",
   "execution_count": 3,
   "id": "f304db2b",
   "metadata": {},
   "outputs": [
    {
     "name": "stderr",
     "output_type": "stream",
     "text": [
      "  0%|                                                                                                                                                                                      | 0/102 [00:00<?, ?it/s]"
     ]
    },
    {
     "name": "stderr",
     "output_type": "stream",
     "text": [
      "100%|████████████████████████████████████████████████████████████████████████████████████████████████████████████████████████████████████████████████████████████████████████████| 102/102 [01:31<00:00,  1.11it/s]\n"
     ]
    }
   ],
   "source": [
    "df_metadata = pd.read_csv(f'{base_dir}/raw_data/station_metadata.csv')\n",
    "ret = parallelize(func=get_data_availability, args=[dict(station_id=sid) for sid in df_metadata['station_id']])"
   ]
  },
  {
   "cell_type": "code",
   "execution_count": 11,
   "id": "8b619b2a",
   "metadata": {},
   "outputs": [],
   "source": [
    "station_id=16103000\n",
    "df_gauge = pd.read_csv(f\"{base_dir}/raw_data/gauge_observations/{station_id}.csv\", dtype={'measurement': str}).query('DQF == \"A\"').drop(columns=['DQF', 'station_id'])\n",
    "\n",
    "df_gauge['hst_timestamp'] = pd.to_datetime(df_gauge['hst_timestamp'])\n",
    "df_gauge['measurement'] = np.array(df_gauge['measurement'])\n",
    "df_gauge.set_index('hst_timestamp', inplace=True)"
   ]
  },
  {
   "cell_type": "code",
   "execution_count": null,
   "id": "73bbefb9",
   "metadata": {},
   "outputs": [
    {
     "data": {
      "text/plain": [
       "(796931, 521039)"
      ]
     },
     "execution_count": 14,
     "metadata": {},
     "output_type": "execute_result"
    }
   ],
   "source": [
    "total_len = pd.date_range(df_gauge.index.min(), df_gauge.index.max(), freq='15min').shape[0]\n",
    "df_gauge.shape[0], total_len"
   ]
  },
  {
   "cell_type": "code",
   "execution_count": 31,
   "id": "34ea423d",
   "metadata": {},
   "outputs": [
    {
     "data": {
      "text/plain": [
       "DatetimeIndex(['2007-10-01 00:00:00-10:00', '2007-10-01 00:15:00-10:00',\n",
       "               '2007-10-01 00:30:00-10:00', '2007-10-01 00:45:00-10:00',\n",
       "               '2007-10-01 01:00:00-10:00', '2007-10-01 01:15:00-10:00',\n",
       "               '2007-10-01 01:30:00-10:00', '2007-10-01 01:45:00-10:00',\n",
       "               '2007-10-01 02:00:00-10:00', '2007-10-01 02:15:00-10:00',\n",
       "               ...\n",
       "               '2022-08-10 09:15:00-10:00', '2022-08-10 09:30:00-10:00',\n",
       "               '2022-08-10 09:45:00-10:00', '2022-08-10 10:00:00-10:00',\n",
       "               '2022-08-10 10:15:00-10:00', '2022-08-10 10:30:00-10:00',\n",
       "               '2022-08-10 10:45:00-10:00', '2022-08-10 11:00:00-10:00',\n",
       "               '2022-08-10 11:15:00-10:00', '2022-08-10 11:30:00-10:00'],\n",
       "              dtype='datetime64[ns, UTC-10:00]', length=521039, freq='15min')"
      ]
     },
     "execution_count": 31,
     "metadata": {},
     "output_type": "execute_result"
    }
   ],
   "source": [
    "pd.date_range(df_gauge.index.min(), df_gauge.index.max(), freq='15min')"
   ]
  },
  {
   "cell_type": "code",
   "execution_count": 30,
   "id": "29f56d44",
   "metadata": {},
   "outputs": [
    {
     "data": {
      "text/plain": [
       "DatetimeIndex(['2007-10-01 00:00:00-10:00', '2007-10-01 00:15:00-10:00',\n",
       "               '2007-10-01 00:30:00-10:00', '2007-10-01 00:45:00-10:00',\n",
       "               '2007-10-01 01:00:00-10:00', '2007-10-01 01:15:00-10:00',\n",
       "               '2007-10-01 01:30:00-10:00', '2007-10-01 01:45:00-10:00',\n",
       "               '2007-10-01 02:00:00-10:00', '2007-10-01 02:15:00-10:00',\n",
       "               ...\n",
       "               '2022-08-10 10:45:00-10:00', '2022-08-10 10:50:00-10:00',\n",
       "               '2022-08-10 10:55:00-10:00', '2022-08-10 11:00:00-10:00',\n",
       "               '2022-08-10 11:05:00-10:00', '2022-08-10 11:10:00-10:00',\n",
       "               '2022-08-10 11:15:00-10:00', '2022-08-10 11:20:00-10:00',\n",
       "               '2022-08-10 11:25:00-10:00', '2022-08-10 11:30:00-10:00'],\n",
       "              dtype='datetime64[ns, UTC-10:00]', name='hst_timestamp', length=796931, freq=None)"
      ]
     },
     "execution_count": 30,
     "metadata": {},
     "output_type": "execute_result"
    }
   ],
   "source": [
    "df_gauge.index"
   ]
  },
  {
   "cell_type": "code",
   "execution_count": 25,
   "id": "0811d379",
   "metadata": {},
   "outputs": [],
   "source": [
    "# plt.plot(df_gauge.index)#.is_unique\n",
    "# plt.plot(pd.date_range(df_gauge.index.min(), df_gauge.index.max(), freq='15min'))"
   ]
  },
  {
   "cell_type": "code",
   "execution_count": 26,
   "id": "70c3d677",
   "metadata": {},
   "outputs": [],
   "source": [
    "# plt.plot(pd.date_range(df_gauge.index.min(), df_gauge.index.max(), freq='15min'))"
   ]
  },
  {
   "cell_type": "code",
   "execution_count": 9,
   "id": "eb8251d7",
   "metadata": {},
   "outputs": [
    {
     "data": {
      "text/plain": [
       "{'station_id': 16103000,\n",
       " 'start_date': '2007/10/01',\n",
       " 'end_date': '2022/08/10',\n",
       " 'N_data': 796931,\n",
       " 'availability_%': 152.9503549638319}"
      ]
     },
     "execution_count": 9,
     "metadata": {},
     "output_type": "execute_result"
    }
   ],
   "source": [
    "get_data_availability(dict(station_id=16103000))"
   ]
  },
  {
   "cell_type": "code",
   "execution_count": 8,
   "id": "b9a15967",
   "metadata": {},
   "outputs": [
    {
     "name": "stdout",
     "output_type": "stream",
     "text": [
      "{'station_id': 16103000, 'start_date': '2007/10/01', 'end_date': '2022/08/10', 'N_data': 796931, 'availability_%': 152.9503549638319}\n",
      "{'station_id': 16097500, 'start_date': '2007/10/01', 'end_date': '2025/02/28', 'N_data': 1008775, 'availability_%': 165.1952981711471}\n",
      "{'station_id': 16094150, 'start_date': '2007/10/01', 'end_date': '2024/08/21', 'N_data': 663132, 'availability_%': 111.95937173411312}\n",
      "{'station_id': 16114800, 'start_date': '2019/05/17', 'end_date': '2025/07/22', 'N_data': 226032, 'availability_%': 104.27994740605753}\n",
      "{'station_id': 16108000, 'start_date': '2007/10/01', 'end_date': '2025/07/17', 'N_data': 984186, 'availability_%': 157.73702962299322}\n",
      "{'station_id': 16010000, 'start_date': '2007/10/01', 'end_date': '2025/05/20', 'N_data': 979194, 'availability_%': 158.34442387147374}\n",
      "{'station_id': 16019000, 'start_date': '2007/10/01', 'end_date': '2025/07/23', 'N_data': 909911, 'availability_%': 145.69718921030807}\n",
      "{'station_id': 16068000, 'start_date': '2007/10/01', 'end_date': '2025/05/27', 'N_data': 808395, 'availability_%': 130.58511669380476}\n",
      "{'station_id': 16071500, 'start_date': '2007/10/01', 'end_date': '2025/02/11', 'N_data': 586581, 'availability_%': 96.32283151661647}\n",
      "{'station_id': 16057900, 'start_date': '2015/11/12', 'end_date': '2024/01/25', 'N_data': 488342, 'availability_%': 169.80197847667725}\n",
      "{'station_id': 16060000, 'start_date': '2007/10/01', 'end_date': '2021/10/14', 'N_data': 602434, 'availability_%': 122.39792114069074}\n",
      "{'station_id': 16031000, 'start_date': '2016/07/28', 'end_date': '2024/07/29', 'N_data': 607207, 'availability_%': 216.40519195403937}\n",
      "{'station_id': 16049000, 'start_date': '2007/10/01', 'end_date': '2025/08/12', 'N_data': 929624, 'availability_%': 148.39627294886876}\n",
      "{'station_id': 16052350, 'start_date': '2021/09/16', 'end_date': '2025/02/05', 'N_data': 327669, 'availability_%': 275.75530607779444}\n",
      "{'station_id': 16409000, 'start_date': '2018/11/08', 'end_date': '2024/11/21', 'N_data': 256349, 'availability_%': 121.1032795094436}\n",
      "{'station_id': 16415000, 'start_date': '2018/11/07', 'end_date': '2022/11/17', 'N_data': 129309, 'availability_%': 91.56953276587308}\n",
      "{'station_id': 16414200, 'start_date': '2007/11/07', 'end_date': '2024/09/09', 'N_data': 530754, 'availability_%': 89.88243821316922}\n",
      "{'station_id': 16415600, 'start_date': '2016/01/13', 'end_date': '2025/04/11', 'N_data': 681668, 'availability_%': 210.33293221018852}\n",
      "{'station_id': 16400000, 'start_date': '2007/10/01', 'end_date': '2025/06/26', 'N_data': 889384, 'availability_%': 143.00249543361375}\n",
      "{'station_id': 16417800, 'start_date': '2018/11/06', 'end_date': '2024/09/13', 'N_data': 261695, 'availability_%': 127.50309384835758}\n",
      "{'station_id': 16620000, 'start_date': '2007/10/01', 'end_date': '2025/01/16', 'N_data': 974032, 'availability_%': 160.60758458415708}\n",
      "{'station_id': 16618000, 'start_date': '2007/10/01', 'end_date': '2024/02/29', 'N_data': 907886, 'availability_%': 157.72424672003558}\n",
      "{'station_id': 16614000, 'start_date': '2007/10/01', 'end_date': '2025/06/12', 'N_data': 955378, 'availability_%': 153.94598392182962}\n",
      "{'station_id': 16605500, 'start_date': '2017/04/13', 'end_date': '2021/11/08', 'N_data': 434855, 'availability_%': 271.25711897499235}\n",
      "{'station_id': 16604500, 'start_date': '2007/10/01', 'end_date': '2021/10/05', 'N_data': 509374, 'availability_%': 103.66383038478055}\n",
      "{'station_id': 16641000, 'start_date': '2020/06/11', 'end_date': '2024/04/23', 'N_data': 336855, 'availability_%': 248.55194905812127}\n",
      "{'station_id': 16647000, 'start_date': '2018/04/10', 'end_date': '2024/10/30', 'N_data': 346722, 'availability_%': 150.80377181231407}\n",
      "{'station_id': 16587000, 'start_date': '2007/10/01', 'end_date': '2025/04/05', 'N_data': 898975, 'availability_%': 146.3887862094346}\n",
      "{'station_id': 16570000, 'start_date': '2021/08/09', 'end_date': '2022/11/16', 'N_data': 124578, 'availability_%': 279.9065315568337}\n",
      "{'station_id': 16552800, 'start_date': '2009/09/16', 'end_date': '2025/04/10', 'N_data': 570540, 'availability_%': 104.54275599727347}\n",
      "{'station_id': 16536000, 'start_date': '2024/03/29', 'end_date': '2024/11/07', 'N_data': 64213, 'availability_%': 299.9906563886942}\n",
      "{'station_id': 16527500, 'start_date': '2020/01/22', 'end_date': '2023/10/18', 'N_data': 286212, 'availability_%': 218.4474244586746}\n",
      "{'station_id': 16518000, 'start_date': '2007/10/01', 'end_date': '2025/06/13', 'N_data': 949791, 'availability_%': 153.0245102540927}\n",
      "{'station_id': 16508000, 'start_date': '2007/10/01', 'end_date': '2024/12/17', 'N_data': 574021, 'availability_%': 95.10035702747703}\n",
      "{'station_id': 16501200, 'start_date': '2007/10/01', 'end_date': '2024/08/21', 'N_data': 529340, 'availability_%': 89.37432569102424}\n",
      "{'station_id': 16751500, 'start_date': '2018/08/06', 'end_date': '2025/04/07', 'N_data': 193860, 'availability_%': 82.9021304983707}\n",
      "{'station_id': 16720000, 'start_date': '2007/10/01', 'end_date': '2024/08/06', 'N_data': 693239, 'availability_%': 117.33168369618016}\n",
      "{'station_id': 16725000, 'start_date': '2007/10/01', 'end_date': '2024/10/16', 'N_data': 656975, 'availability_%': 109.92527473998422}\n",
      "{'station_id': 16757000, 'start_date': '2018/08/07', 'end_date': '2024/09/04', 'N_data': 185745, 'availability_%': 87.1616675426083}\n",
      "{'station_id': 16758000, 'start_date': '2007/10/01', 'end_date': '2011/12/07', 'N_data': 130317, 'availability_%': 88.81778032223767}\n",
      "{'station_id': 16759600, 'start_date': '2016/08/04', 'end_date': '2024/10/17', 'N_data': 401769, 'availability_%': 139.69277734702322}\n",
      "{'station_id': 16717815, 'start_date': '2018/05/31', 'end_date': '2022/11/03', 'N_data': 136681, 'availability_%': 88.04212696061064}\n",
      "{'station_id': 16717700, 'start_date': '2018/10/31', 'end_date': '2024/02/06', 'N_data': 215469, 'availability_%': 116.66648618210172}\n",
      "{'station_id': 16717000, 'start_date': '2007/10/01', 'end_date': '2024/08/22', 'N_data': 691794, 'availability_%': 116.78311880143491}\n",
      "{'station_id': 16704000, 'start_date': '2007/10/09', 'end_date': '2024/11/14', 'N_data': 676369, 'availability_%': 112.80054701766966}\n",
      "{'station_id': 16770500, 'start_date': '2014/06/10', 'end_date': '2024/08/21', 'N_data': 425400, 'availability_%': 118.94443108548676}\n",
      "{'station_id': 16210200, 'start_date': '2012/10/17', 'end_date': '2024/02/08', 'N_data': 621280, 'availability_%': 156.66417865284137}\n",
      "{'station_id': 16210100, 'start_date': '2012/09/10', 'end_date': '2024/11/20', 'N_data': 601960, 'availability_%': 140.78729181625334}\n",
      "{'station_id': 16330000, 'start_date': '2007/10/01', 'end_date': '2025/02/28', 'N_data': 557878, 'availability_%': 91.35716344390296}\n",
      "{'station_id': 16325000, 'start_date': '2013/11/25', 'end_date': '2025/02/28', 'N_data': 756533, 'availability_%': 191.58020820935397}\n",
      "{'station_id': 16210500, 'start_date': '2012/09/15', 'end_date': '2024/08/20', 'N_data': 663483, 'availability_%': 158.60960240203485}\n",
      "{'station_id': 213320158061401, 'start_date': '2015/07/27', 'end_date': '2025/02/28', 'N_data': 562298, 'availability_%': 167.12527455543568}\n",
      "{'station_id': 213308158035601, 'start_date': '2009/03/11', 'end_date': '2025/02/28', 'N_data': 906481, 'availability_%': 161.85310964461203}\n",
      "{'station_id': 16345000, 'start_date': '2007/10/01', 'end_date': '2024/02/29', 'N_data': 796997, 'availability_%': 138.4598412830776}\n",
      "{'station_id': 213133158014201, 'start_date': '2011/08/03', 'end_date': '2024/12/15', 'N_data': 594690, 'availability_%': 126.84961018738734}\n",
      "{'station_id': 16210000, 'start_date': '2005/10/01', 'end_date': '2025/02/28', 'N_data': 845260, 'availability_%': 124.16854698444038}\n",
      "{'station_id': 16212601, 'start_date': '2007/10/01', 'end_date': '2022/10/12', 'N_data': 480714, 'availability_%': 91.20305987125319}\n",
      "{'station_id': 16208000, 'start_date': '2007/10/01', 'end_date': '2024/07/09', 'N_data': 797864, 'availability_%': 135.65655019977896}\n",
      "{'station_id': 16206600, 'start_date': '2024/05/16', 'end_date': '2024/05/24', 'N_data': 2050, 'availability_%': 299.7076023391813}\n",
      "{'station_id': 16200000, 'start_date': '2007/10/01', 'end_date': '2024/09/06', 'N_data': 1073373, 'availability_%': 180.76095303532455}\n",
      "{'station_id': 16211600, 'start_date': '2007/10/01', 'end_date': '2025/02/27', 'N_data': 770559, 'availability_%': 126.2156230037182}\n",
      "{'station_id': 16304200, 'start_date': '2007/10/01', 'end_date': '2025/06/06', 'N_data': 984554, 'availability_%': 158.79544655443266}\n",
      "{'station_id': 16301050, 'start_date': '2009/09/15', 'end_date': '2024/08/13', 'N_data': 779687, 'availability_%': 149.12050522418176}\n",
      "{'station_id': 16296500, 'start_date': '2007/10/01', 'end_date': '2024/11/29', 'N_data': 823820, 'availability_%': 136.87764386092584}\n",
      "{'station_id': 16294900, 'start_date': '2007/10/01', 'end_date': '2024/07/08', 'N_data': 757144, 'availability_%': 128.75635156552912}\n",
      "{'station_id': 16294100, 'start_date': '2007/10/01', 'end_date': '2024/04/23', 'N_data': 782621, 'availability_%': 134.76178832669817}\n",
      "{'station_id': 16212490, 'start_date': '2012/11/08', 'end_date': '2024/02/09', 'N_data': 362119, 'availability_%': 91.77839506485739}\n",
      "{'station_id': 16213000, 'start_date': '2007/10/01', 'end_date': '2025/02/13', 'N_data': 974731, 'availability_%': 160.01152400917326}\n",
      "{'station_id': 16284200, 'start_date': '2007/10/01', 'end_date': '2024/10/23', 'N_data': 899529, 'availability_%': 150.3429614352234}\n",
      "{'station_id': 16283200, 'start_date': '2007/10/01', 'end_date': '2025/02/28', 'N_data': 1000773, 'availability_%': 163.88490410312843}\n",
      "{'station_id': 16279200, 'start_date': '2023/03/31', 'end_date': '2025/02/28', 'N_data': 191361, 'availability_%': 284.61515579683197}\n",
      "{'station_id': 16275000, 'start_date': '2007/10/01', 'end_date': '2024/09/12', 'N_data': 900769, 'availability_%': 151.5484280179078}\n",
      "{'station_id': 16274100, 'start_date': '2016/09/30', 'end_date': '2024/04/24', 'N_data': 630868, 'availability_%': 237.84709000493888}\n",
      "{'station_id': 16265000, 'start_date': '2016/09/29', 'end_date': '2024/08/16', 'N_data': 525516, 'availability_%': 190.21413369239457}\n",
      "{'station_id': 16227500, 'start_date': '2013/06/26', 'end_date': '2025/02/28', 'N_data': 810915, 'availability_%': 198.03821488055408}\n",
      "{'station_id': 16229000, 'start_date': '2007/10/01', 'end_date': '2024/09/26', 'N_data': 948089, 'availability_%': 159.14956976576323}\n",
      "{'station_id': 16226200, 'start_date': '2015/04/15', 'end_date': '2025/06/09', 'N_data': 648632, 'availability_%': 182.19334687216477}\n",
      "{'station_id': 16226700, 'start_date': '2022/01/07', 'end_date': '2023/01/17', 'N_data': 33007, 'availability_%': 91.72178069249154}\n",
      "{'station_id': 16226400, 'start_date': '2007/10/01', 'end_date': '2025/06/09', 'N_data': 834015, 'availability_%': 134.4511059774855}\n",
      "{'station_id': 16264600, 'start_date': '2005/10/01', 'end_date': '2025/01/10', 'N_data': 620780, 'availability_%': 91.83285526835496}\n",
      "{'station_id': 16254000, 'start_date': '2008/05/30', 'end_date': '2024/12/11', 'N_data': 783442, 'availability_%': 135.13492068967895}\n",
      "{'station_id': 16249000, 'start_date': '2015/09/24', 'end_date': '2025/02/28', 'N_data': 775689, 'availability_%': 234.52000870732505}\n",
      "{'station_id': 16240500, 'start_date': '2007/10/01', 'end_date': '2025/06/16', 'N_data': 827372, 'availability_%': 133.2379990756442}\n",
      "{'station_id': 16238500, 'start_date': '2013/02/08', 'end_date': '2025/02/20', 'N_data': 798524, 'availability_%': 189.23714956039527}\n",
      "{'station_id': 16241600, 'start_date': '2011/04/27', 'end_date': '2025/07/02', 'N_data': 486882, 'availability_%': 97.91079713073958}\n",
      "{'station_id': 16244000, 'start_date': '2011/12/12', 'end_date': '2024/08/14', 'N_data': 751334, 'availability_%': 169.0579266646266}\n",
      "{'station_id': 16238000, 'start_date': '2010/02/19', 'end_date': '2025/02/28', 'N_data': 795524, 'availability_%': 151.00203101569767}\n",
      "{'station_id': 16247100, 'start_date': '2009/10/01', 'end_date': '2024/11/19', 'N_data': 781218, 'availability_%': 147.19438368011396}\n",
      "88\n"
     ]
    }
   ],
   "source": [
    "n_sta = 0\n",
    "for meta in ret:\n",
    "    if meta['availability_%'] < 80:\n",
    "        continue\n",
    "    else:\n",
    "        print(meta)\n",
    "        n_sta += 1\n",
    "print(n_sta)"
   ]
  },
  {
   "cell_type": "code",
   "execution_count": null,
   "id": "efede106",
   "metadata": {},
   "outputs": [],
   "source": [
    "# # Run this to get data availability at each station\n",
    "# df_metadata = pd.read_csv(f'{base_dir}/raw_data/station_metadata.csv')\n",
    "# dfs = []\n",
    "# for station_id in tqdm(df_metadata['station_id']):\n",
    "#     data_availability = {'station_id': station_id, 'start_date': None, 'end_date': None, 'N_data': 0}\n",
    "#     df_gauge = pd.read_csv(f\"{base_dir}/raw_data/gauge_observations/{station_id}.csv\", dtype={'measurement': str}).query('DQF == \"A\"').drop(columns=['DQF', 'station_id'])\n",
    "#     if len(df_gauge) == 0:\n",
    "#         df = pd.DataFrame(data_availability)\n",
    "#     else:\n",
    "#         df_gauge['hst_timestamp'] = pd.to_datetime(df_gauge['hst_timestamp'])\n",
    "#         df_gauge['measurement'] = np.array(df_gauge['measurement'])\n",
    "#         df_gauge.set_index('hst_timestamp', inplace=True)\n",
    "#         # df_gauge_resampled = df_gauge.resample('1h').max()\n",
    "#     break\n",
    "#     # n_potential = df_gauge_resampled.shape[0]\n",
    "#     # n_actual = df_gauge_resampled.dropna().shape[0]\n",
    "#     # output = f\"{station_id}\\n\" \\\n",
    "#     #     + f\"\\tData Range {df_gauge.index.min().strftime('%Y/%m/%d')} ~ {df_gauge.index.max().strftime('%Y/%m/%d')}\" \\\n",
    "#     #     + f\"\\n\\t{n_actual/n_potential * 100:.2f}% data available ({n_actual}/{n_potential})\"\n",
    "#     # print(output)"
   ]
  },
  {
   "cell_type": "code",
   "execution_count": 2,
   "id": "4d672b9e",
   "metadata": {},
   "outputs": [],
   "source": [
    "# df_gauge.resample('1h').apply(lambda g: g.max() if len(g) == 4 else pd.NA).dropna()"
   ]
  },
  {
   "cell_type": "code",
   "execution_count": 5,
   "id": "9f76004e",
   "metadata": {},
   "outputs": [
    {
     "name": "stdout",
     "output_type": "stream",
     "text": [
      "\tData Range 2008/12/13 ~ 2025/01/27\n",
      "\n",
      "\t0.17% data available (246/141338)\n",
      "\n",
      "\tData Range 2007/10/01 ~ 2022/08/10\n",
      "\n",
      "\t89.72% data available (116865/130260)\n",
      "\n",
      "\tData Range 2007/10/01 ~ 2025/02/28\n",
      "\n",
      "\t91.62% data available (139873/152664)\n",
      "\n",
      "\tData Range 2007/10/01 ~ 2024/08/21\n",
      "\n",
      "\t81.80% data available (121131/148075)\n",
      "\n",
      "\tData Range 2019/05/17 ~ 2025/07/22\n",
      "\n",
      "\t35.36% data available (19161/54190)\n",
      "\n",
      "\tData Range 2007/10/01 ~ 2025/07/17\n",
      "\n",
      "\t88.31% data available (137752/155986)\n",
      "\n",
      "\tData Range 2007/10/01 ~ 2025/05/20\n",
      "\n",
      "\t90.93% data available (140571/154599)\n",
      "\n",
      "\tNO DATA\n",
      "\n",
      "\tData Range 2007/10/01 ~ 2025/07/23\n",
      "\n",
      "\t85.74% data available (133869/156131)\n",
      "\n",
      "\tNO DATA\n",
      "\n",
      "\tData Range 2007/10/01 ~ 2025/05/27\n",
      "\n",
      "\t87.00% data available (134652/154764)\n",
      "\n",
      "\tData Range 2007/10/01 ~ 2025/02/11\n",
      "\n",
      "\t90.39% data available (137610/152244)\n",
      "\n",
      "\tData Range 2015/11/12 ~ 2024/01/25\n",
      "\n",
      "\t91.12% data available (65514/71899)\n",
      "\n",
      "\tData Range 2007/10/01 ~ 2021/10/14\n",
      "\n",
      "\t90.32% data available (111133/123049)\n",
      "\n",
      "\tData Range 2016/07/28 ~ 2024/07/29\n",
      "\n",
      "\t91.30% data available (64046/70148)\n",
      "\n",
      "\tData Range 2007/10/01 ~ 2025/08/12\n",
      "\n",
      "\t91.20% data available (142825/156612)\n",
      "\n",
      "\tData Range 2021/09/16 ~ 2025/02/05\n",
      "\n",
      "\t91.94% data available (27314/29707)\n",
      "\n",
      "\tNO DATA\n",
      "\n",
      "\tData Range 2018/11/08 ~ 2024/11/21\n",
      "\n",
      "\t83.63% data available (44258/52921)\n",
      "\n",
      "\tNO DATA\n",
      "\n",
      "\tData Range 2018/11/07 ~ 2022/11/17\n",
      "\n",
      "\t91.57% data available (32328/35304)\n",
      "\n",
      "\tData Range 2007/11/07 ~ 2024/09/09\n",
      "\n",
      "\t89.57% data available (132234/147625)\n",
      "\n",
      "\tData Range 2016/01/13 ~ 2025/04/11\n",
      "\n",
      "\t90.32% data available (73184/81023)\n",
      "\n",
      "\tData Range 2007/10/01 ~ 2025/06/26\n",
      "\n",
      "\t88.68% data available (137886/155484)\n",
      "\n",
      "\tData Range 2018/11/06 ~ 2024/09/13\n",
      "\n",
      "\t89.21% data available (45778/51312)\n",
      "\n",
      "\tNO DATA\n",
      "\n",
      "\tData Range 2007/10/01 ~ 2025/01/16\n",
      "\n",
      "\t91.02% data available (137999/151617)\n",
      "\n",
      "\tData Range 2007/10/01 ~ 2024/02/29\n",
      "\n",
      "\t90.08% data available (129627/143904)\n",
      "\n",
      "\tData Range 2007/10/01 ~ 2025/06/12\n",
      "\n",
      "\t89.70% data available (139170/155149)\n",
      "\n",
      "\tNO DATA\n",
      "\n",
      "\tData Range 2017/04/13 ~ 2021/11/08\n",
      "\n",
      "\t91.74% data available (36767/40078)\n",
      "\n",
      "\tData Range 2007/10/01 ~ 2021/10/05\n",
      "\n",
      "\t71.01% data available (87225/122843)\n",
      "\n",
      "\tNO DATA\n",
      "\n",
      "\tData Range 2020/06/11 ~ 2024/04/23\n",
      "\n",
      "\t83.15% data available (28175/33883)\n",
      "\n",
      "\tNO DATA\n",
      "\n",
      "\tData Range 2018/04/10 ~ 2024/10/30\n",
      "\n",
      "\t78.67% data available (45220/57480)\n",
      "\n",
      "\tData Range 2007/10/01 ~ 2025/04/05\n",
      "\n",
      "\t90.73% data available (139295/153526)\n",
      "\n",
      "\tData Range 2021/08/09 ~ 2022/11/16\n",
      "\n",
      "\t93.31% data available (10384/11128)\n",
      "\n",
      "\tData Range 2009/09/16 ~ 2025/04/10\n",
      "\n",
      "\t90.89% data available (124010/136438)\n",
      "\n",
      "\tData Range 2024/03/29 ~ 2024/11/07\n",
      "\n",
      "\t100.00% data available (5352/5352)\n",
      "\n",
      "\tData Range 2020/01/22 ~ 2023/10/18\n",
      "\n",
      "\t73.13% data available (23953/32756)\n",
      "\n",
      "\tNO DATA\n",
      "\n",
      "\tData Range 2007/10/01 ~ 2025/06/13\n",
      "\n",
      "\t91.30% data available (141666/155170)\n",
      "\n",
      "\tData Range 2007/10/01 ~ 2024/12/17\n",
      "\n",
      "\t91.08% data available (137440/150899)\n",
      "\n",
      "\tData Range 2007/10/01 ~ 2024/08/21\n",
      "\n",
      "\t73.21% data available (108396/148069)\n",
      "\n",
      "\tData Range 2018/08/06 ~ 2025/04/07\n",
      "\n",
      "\t82.99% data available (48515/58461)\n",
      "\n",
      "\tData Range 2007/10/01 ~ 2024/08/06\n",
      "\n",
      "\t90.86% data available (134212/147710)\n",
      "\n",
      "\tData Range 2007/10/01 ~ 2024/10/16\n",
      "\n",
      "\t90.86% data available (135759/149414)\n",
      "\n",
      "\tNO DATA\n",
      "\n",
      "\tData Range 2018/08/07 ~ 2024/09/04\n",
      "\n",
      "\t87.31% data available (46513/53276)\n",
      "\n",
      "\tData Range 2007/10/01 ~ 2011/12/07\n",
      "\n",
      "\t88.83% data available (32585/36681)\n",
      "\n",
      "\tData Range 2016/08/04 ~ 2024/10/17\n",
      "\n",
      "\t91.10% data available (65501/71904)\n",
      "\n",
      "\tData Range 2018/05/31 ~ 2022/11/03\n",
      "\n",
      "\t88.17% data available (34219/38812)\n",
      "\n",
      "\tData Range 2018/10/31 ~ 2024/02/06\n",
      "\n",
      "\t91.85% data available (42411/46172)\n",
      "\n",
      "\tData Range 2007/10/01 ~ 2024/08/22\n",
      "\n",
      "\t90.72% data available (134350/148094)\n",
      "\n",
      "\tNO DATA\n",
      "\n",
      "\tData Range 2007/10/09 ~ 2024/11/14\n",
      "\n",
      "\t91.49% data available (137149/149904)\n",
      "\n",
      "\tData Range 2014/06/10 ~ 2024/08/21\n",
      "\n",
      "\t91.15% data available (81503/89412)\n",
      "\n",
      "\tData Range 2012/10/17 ~ 2024/02/08\n",
      "\n",
      "\t91.19% data available (90409/99143)\n",
      "\n",
      "\tData Range 2012/09/10 ~ 2024/11/20\n",
      "\n",
      "\t91.22% data available (97512/106893)\n",
      "\n",
      "\tData Range 2007/10/01 ~ 2025/02/28\n",
      "\n",
      "\t91.07% data available (139031/152664)\n",
      "\n",
      "\tData Range 2013/11/25 ~ 2025/02/28\n",
      "\n",
      "\t90.08% data available (88932/98723)\n",
      "\n",
      "\tData Range 2012/09/15 ~ 2024/08/20\n",
      "\n",
      "\t85.94% data available (89878/104578)\n",
      "\n",
      "\tData Range 2015/07/27 ~ 2025/02/28\n",
      "\n",
      "\t81.09% data available (68204/84114)\n",
      "\n",
      "\tData Range 2009/03/11 ~ 2025/02/28\n",
      "\n",
      "\t90.91% data available (127286/140016)\n",
      "\n",
      "\tData Range 2007/10/01 ~ 2024/02/29\n",
      "\n",
      "\t91.02% data available (130978/143904)\n",
      "\n",
      "\tData Range 2011/08/03 ~ 2024/12/15\n",
      "\n",
      "\t75.37% data available (88342/117204)\n",
      "\n",
      "\tData Range 2005/10/01 ~ 2025/02/28\n",
      "\n",
      "\t87.27% data available (148515/170184)\n",
      "\n",
      "\tData Range 2007/10/01 ~ 2022/10/12\n",
      "\n",
      "\t42.78% data available (56372/131771)\n",
      "\n",
      "\tData Range 2007/10/01 ~ 2024/07/09\n",
      "\n",
      "\t80.50% data available (118367/147038)\n",
      "\n",
      "\tData Range 2009/11/26 ~ 2024/11/05\n",
      "\n",
      "\t2.18% data available (2860/131006)\n",
      "\n",
      "\tData Range 2024/05/16 ~ 2024/05/24\n",
      "\n",
      "\t100.00% data available (172/172)\n",
      "\n",
      "\tData Range 2007/10/01 ~ 2024/09/06\n",
      "\n",
      "\t85.80% data available (127375/148452)\n",
      "\n",
      "\tData Range 2007/10/01 ~ 2025/02/27\n",
      "\n",
      "\t91.05% data available (138961/152628)\n",
      "\n",
      "\tNO DATA\n",
      "\n",
      "\tData Range 2007/10/01 ~ 2025/06/06\n",
      "\n",
      "\t89.47% data available (138682/155004)\n",
      "\n",
      "\tData Range 2009/09/15 ~ 2024/08/13\n",
      "\n",
      "\t86.66% data available (113277/130715)\n",
      "\n",
      "\tData Range 2007/10/01 ~ 2024/11/29\n",
      "\n",
      "\t91.18% data available (137194/150467)\n",
      "\n",
      "\tData Range 2007/10/01 ~ 2024/07/08\n",
      "\n",
      "\t89.37% data available (131388/147011)\n",
      "\n",
      "\tData Range 2007/10/01 ~ 2024/04/23\n",
      "\n",
      "\t89.73% data available (130281/145186)\n",
      "\n",
      "\tData Range 2012/11/08 ~ 2024/02/09\n",
      "\n",
      "\t91.55% data available (90305/98640)\n",
      "\n",
      "\tData Range 2007/10/01 ~ 2025/02/13\n",
      "\n",
      "\t91.26% data available (138976/152291)\n",
      "\n",
      "\tData Range 2007/10/01 ~ 2024/10/23\n",
      "\n",
      "\t85.22% data available (127479/149580)\n",
      "\n",
      "\tData Range 2007/10/01 ~ 2025/02/28\n",
      "\n",
      "\t90.62% data available (138348/152664)\n",
      "\n",
      "\tData Range 2023/03/31 ~ 2025/02/28\n",
      "\n",
      "\t95.35% data available (16027/16809)\n",
      "\n",
      "\tData Range 2007/10/01 ~ 2024/09/12\n",
      "\n",
      "\t89.35% data available (132770/148595)\n",
      "\n",
      "\tData Range 2016/09/30 ~ 2024/04/24\n",
      "\n",
      "\t90.98% data available (60332/66311)\n",
      "\n",
      "\tData Range 2016/09/29 ~ 2024/08/16\n",
      "\n",
      "\t86.38% data available (59666/69070)\n",
      "\n",
      "\tData Range 2013/06/26 ~ 2025/02/28\n",
      "\n",
      "\t92.30% data available (94489/102369)\n",
      "\n",
      "\tData Range 2007/10/01 ~ 2024/09/26\n",
      "\n",
      "\t91.08% data available (135640/148931)\n",
      "\n",
      "\tData Range 2015/04/15 ~ 2025/06/09\n",
      "\n",
      "\t91.25% data available (81214/89004)\n",
      "\n",
      "\tData Range 2022/01/07 ~ 2023/01/17\n",
      "\n",
      "\t91.73% data available (8253/8997)\n",
      "\n",
      "\tData Range 2007/10/01 ~ 2025/06/09\n",
      "\n",
      "\t76.38% data available (118452/155078)\n",
      "\n",
      "\tData Range 2005/10/01 ~ 2025/01/10\n",
      "\n",
      "\t89.84% data available (151834/168998)\n",
      "\n",
      "\tData Range 2008/05/30 ~ 2024/12/11\n",
      "\n",
      "\t85.54% data available (123974/144938)\n",
      "\n",
      "\tData Range 2015/09/24 ~ 2025/02/28\n",
      "\n",
      "\t81.08% data available (67046/82689)\n",
      "\n",
      "\tData Range 2007/10/01 ~ 2025/06/16\n",
      "\n",
      "\t90.94% data available (141183/155244)\n",
      "\n",
      "\tData Range 2013/02/08 ~ 2025/02/20\n",
      "\n",
      "\t90.71% data available (95692/105493)\n",
      "\n",
      "\tData Range 2011/04/27 ~ 2025/07/02\n",
      "\n",
      "\t90.05% data available (111949/124319)\n",
      "\n",
      "\tData Range 2011/12/12 ~ 2024/08/14\n",
      "\n",
      "\t91.21% data available (101341/111106)\n",
      "\n",
      "\tData Range 2010/02/19 ~ 2025/02/28\n",
      "\n",
      "\t90.20% data available (118795/131708)\n",
      "\n",
      "\tData Range 2009/10/01 ~ 2024/11/19\n",
      "\n",
      "\t83.73% data available (111095/132685)\n",
      "\n"
     ]
    }
   ],
   "source": [
    "with open(f\"{base_dir}/raw_data/data_availability.txt\") as f:\n",
    "    for line in f.readlines():\n",
    "        if line.startswith('#'): continue\n",
    "        if line.startswith('\\t'):\n",
    "            print(line)"
   ]
  },
  {
   "cell_type": "code",
   "execution_count": null,
   "metadata": {},
   "outputs": [],
   "source": []
  },
  {
   "cell_type": "code",
   "execution_count": null,
   "id": "6cc6e0fe",
   "metadata": {},
   "outputs": [],
   "source": []
  },
  {
   "cell_type": "code",
   "execution_count": null,
   "id": "28c60695",
   "metadata": {},
   "outputs": [],
   "source": []
  },
  {
   "cell_type": "code",
   "execution_count": 1,
   "id": "106495be",
   "metadata": {},
   "outputs": [],
   "source": [
    "import matplotlib.pyplot as plt\n",
    "import requests\n",
    "import pandas as pd\n",
    "from tqdm import tqdm\n",
    "import zarr\n",
    "from wrf_diffusion.nimbuspp.parallel import parallelize\n",
    "from wrf_diffusion.config import BASE_DIR\n",
    "import os"
   ]
  },
  {
   "cell_type": "code",
   "execution_count": 10,
   "id": "32b278e7",
   "metadata": {},
   "outputs": [
    {
     "name": "stdout",
     "output_type": "stream",
     "text": [
      "tcwv\n"
     ]
    }
   ],
   "source": [
    "era5_filename = f\"{BASE_DIR}/preprocessed_data/ml_datasets/v6/ERA5.zarr\"\n",
    "# os.path.exists(era5_filename)\n",
    "with zarr.open(era5_filename) as f:\n",
    "    print(f['data'].attrs['varnames'][-1])\n",
    "    df_era5 = pd.DataFrame(\n",
    "        data={'utc_timestamp':pd.to_datetime(f['utc_timestamp'][60000:61000], unit='s', utc=True),\n",
    "              'q-700':f['data']['kauai'][60000:61000,10,0,2],\n",
    "              'q-850':f['data']['kauai'][60000:61000,11,0,2],\n",
    "              'tcwv':f['data']['kauai'][60000:61000,-1,0,2]\n",
    "              })"
   ]
  },
  {
   "cell_type": "code",
   "execution_count": 4,
   "metadata": {},
   "outputs": [],
   "source": [
    "# Hanalei River nr Hanalei, Kauai, HI - USGS-16103000\n",
    "site_id = '16103000'\n",
    "minor_threshold = 5\n",
    "major_threshold = 15.8\n",
    "station_begin_date = '1990-10-01'\n",
    "# https://waterdata.usgs.gov/monitoring-location/USGS-16103000/#dataTypeId=continuous-00065-0&startDT=2018-01-01&endDT=2018-12-31"
   ]
  },
  {
   "cell_type": "code",
   "execution_count": 5,
   "metadata": {},
   "outputs": [],
   "source": [
    "start_timestamps = pd.date_range(start='2009-08-01', end='2009-12-31', freq=pd.tseries.offsets.MonthBegin(n=3))"
   ]
  },
  {
   "cell_type": "code",
   "execution_count": 6,
   "id": "c876b438",
   "metadata": {},
   "outputs": [],
   "source": [
    "start_timestamp = start_timestamps[0]"
   ]
  },
  {
   "cell_type": "code",
   "execution_count": 7,
   "id": "f4503767",
   "metadata": {},
   "outputs": [
    {
     "name": "stderr",
     "output_type": "stream",
     "text": [
      "  0%|                                                                                                                                                                                        | 0/2 [00:00<?, ?it/s]"
     ]
    },
    {
     "name": "stderr",
     "output_type": "stream",
     "text": [
      "100%|████████████████████████████████████████████████████████████████████████████████████████████████████████████████████████████████████████████████████████████████████████████████| 2/2 [00:02<00:00,  1.37s/it]\n"
     ]
    }
   ],
   "source": [
    "dfs = []\n",
    "for start_timestamp in tqdm(start_timestamps):\n",
    "    end_timestamp = start_timestamp + pd.tseries.offsets.MonthEnd(n=3)\n",
    "    # url = f\"https://nwis.waterservices.usgs.gov/nwis/iv/?sites=16068000&agencyCd=USGS\"\n",
    "    url = f\"https://nwis.waterservices.usgs.gov/nwis/iv/?sites={site_id}&agencyCd=USGS\"\n",
    "    url += f\"&startDT={start_timestamp.year}-{start_timestamp.month:02d}-{start_timestamp.day:02d}T00:00:00.000-10:00&endDT={end_timestamp.year}-{end_timestamp.month:02d}-{end_timestamp.day:02d}T23:59:59.999-10:00&parameterCd=00065&format=rdb\"\n",
    "    lines = requests.get(url).text.split('\\n')\n",
    "\n",
    "    timestamps, measurements = [], []\n",
    "    for l in lines:\n",
    "        if not l.startswith('USGS'): continue\n",
    "        data_tuple = l.split('\\t')\n",
    "        [timestamps.append(data_tuple[2]), measurements.append(data_tuple[4])]\n",
    "    df = pd.DataFrame(data={'utc_timestamp': pd.to_datetime(timestamps).tz_localize('HST').tz_convert('HST'), 'measurement': map(float, measurements)})\n",
    "    dfs.append(df)"
   ]
  },
  {
   "cell_type": "code",
   "execution_count": 8,
   "id": "74694540",
   "metadata": {},
   "outputs": [],
   "source": [
    "df_all = pd.concat(dfs).set_index('utc_timestamp').resample('1h').max()# Do not round to mean!"
   ]
  },
  {
   "cell_type": "code",
   "execution_count": 14,
   "id": "65736d51",
   "metadata": {},
   "outputs": [
    {
     "data": {
      "text/plain": [
       "<matplotlib.legend.Legend at 0x152641396b90>"
      ]
     },
     "execution_count": 14,
     "metadata": {},
     "output_type": "execute_result"
    },
    {
     "data": {
      "image/png": "[encoded data removed]",
      "text/plain": [
       "<Figure size 640x480 with 1 Axes>"
      ]
     },
     "metadata": {},
     "output_type": "display_data"
    }
   ],
   "source": [
    "df_merged = pd.merge(df_all, df_era5, on='utc_timestamp')\n",
    "fig, ax = plt.subplots(1)\n",
    "ax.plot(df_merged['q-700'], label='era5 specific humidity')\n",
    "ax.plot(df_merged['tcwv'] * 0.001, label='era5 specific humidity')\n",
    "ax.plot(df_merged['measurement'] * 0.01, label='flow gauge x 0.01')\n",
    "ax.legend()"
   ]
  }
 ],
 "metadata": {
  "kernelspec": {
   "display_name": "sandbox",
   "language": "python",
   "name": "python3"
  },
  "language_info": {
   "codemirror_mode": {
    "name": "ipython",
    "version": 3
   },
   "file_extension": ".py",
   "mimetype": "text/x-python",
   "name": "python",
   "nbconvert_exporter": "python",
   "pygments_lexer": "ipython3",
   "version": "3.11.6"
  }
 },
 "nbformat": 4,
 "nbformat_minor": 5
}
